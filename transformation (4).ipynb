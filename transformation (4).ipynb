{
 "cells": [
  {
   "cell_type": "code",
   "execution_count": 1,
   "metadata": {},
   "outputs": [],
   "source": [
    "# pip install jupyterthemes\n",
    "# chesterish, grade3, gruvboxd, gruvboxl, monokai, oceans16, onedork, solarizedd, solarizedl\n",
    "!jt -t grade3"
   ]
  },
  {
   "cell_type": "code",
   "execution_count": 2,
   "metadata": {},
   "outputs": [
    {
     "data": {
      "application/javascript": [
       "// stops cursor blinking\n",
       "var rate = 0;\n",
       "IPython.notebook.get_cells().map(\n",
       "    function(c) {  return c.code_mirror.options.cursorBlinkRate=rate;  }\n",
       ");\n",
       "// make sure new CodeMirror instance also use this setting\n",
       "CodeMirror.defaults.cursorBlinkRate=rate;\n"
      ],
      "text/plain": [
       "<IPython.core.display.Javascript object>"
      ]
     },
     "metadata": {},
     "output_type": "display_data"
    }
   ],
   "source": [
    "%%javascript\n",
    "// stops cursor blinking\n",
    "var rate = 0;\n",
    "IPython.notebook.get_cells().map(\n",
    "    function(c) {  return c.code_mirror.options.cursorBlinkRate=rate;  }\n",
    ");\n",
    "// make sure new CodeMirror instance also use this setting\n",
    "CodeMirror.defaults.cursorBlinkRate=rate;"
   ]
  },
  {
   "cell_type": "code",
   "execution_count": 3,
   "metadata": {},
   "outputs": [
    {
     "data": {
      "application/javascript": [
       "IPython.notebook.events.off('checkpoint_created.Notebook');\n",
       "IPython.notebook.events.off('notebook_saved.Notebook');\n"
      ],
      "text/plain": [
       "<IPython.core.display.Javascript object>"
      ]
     },
     "metadata": {},
     "output_type": "display_data"
    }
   ],
   "source": [
    "%%javascript\n",
    "IPython.notebook.events.off('checkpoint_created.Notebook');\n",
    "IPython.notebook.events.off('notebook_saved.Notebook');"
   ]
  },
  {
   "cell_type": "code",
   "execution_count": 4,
   "metadata": {},
   "outputs": [
    {
     "name": "stdout",
     "output_type": "stream",
     "text": [
      "Requirement already satisfied: scipy in c:\\python\\lib\\site-packages (1.3.1)\n",
      "Requirement already satisfied: numpy in c:\\python\\lib\\site-packages (1.17.4)\n",
      "Requirement already satisfied: pandas in c:\\python\\lib\\site-packages (0.25.3)\n",
      "Requirement already satisfied: python-dateutil>=2.6.1 in c:\\python\\lib\\site-packages (from pandas) (2.8.1)\n",
      "Requirement already satisfied: pytz>=2017.2 in c:\\python\\lib\\site-packages (from pandas) (2019.3)\n",
      "Requirement already satisfied: six>=1.5 in c:\\python\\lib\\site-packages (from python-dateutil>=2.6.1->pandas) (1.13.0)\n",
      "Note: you may need to restart the kernel to use updated packages.\n"
     ]
    }
   ],
   "source": [
    "pip install scipy numpy pandas"
   ]
  },
  {
   "cell_type": "code",
   "execution_count": 5,
   "metadata": {},
   "outputs": [],
   "source": [
    "# Import libraries.\n",
    "from pathlib import Path\n",
    "import pandas as pd\n",
    "import numpy as np\n",
    "import codecs\n",
    "import json\n",
    "import time\n",
    "import re\n",
    "import os"
   ]
  },
  {
   "cell_type": "code",
   "execution_count": 6,
   "metadata": {},
   "outputs": [],
   "source": [
    "# Lists the absolute file paths of files found in directory.\n",
    "def absoluteFilePaths(directory):\n",
    "    for dirpath,_,filenames in os.walk(directory):\n",
    "        for f in filenames:\n",
    "            yield os.path.abspath(os.path.join(dirpath, f))"
   ]
  },
  {
   "cell_type": "code",
   "execution_count": 7,
   "metadata": {},
   "outputs": [
    {
     "data": {
      "text/plain": [
       "dict_keys(['sentences', 'labelerInfo', 'labelSets', 'labels'])"
      ]
     },
     "execution_count": 7,
     "metadata": {},
     "output_type": "execute_result"
    }
   ],
   "source": [
    "# Reads into memory the json exports found in subdirectories 'REVIEW' and 'DOCUMENT'.\n",
    "path_in = 'D:\\\\career\\\\previous_work\\\\rentgrata\\\\exports'\n",
    "good_reads = [x[0] for x in os.walk(path_in) if 'DOCUMENT' in x[0] or 'REVIEW' in x[0]]\n",
    "abs_reads = []\n",
    "for gr in good_reads:\n",
    "    abs_reads += [ar for ar in absoluteFilePaths(gr)]\n",
    "exports = dict()\n",
    "for ar in abs_reads:\n",
    "    with open(ar, mode='r', encoding='utf-8') as f:\n",
    "        exports[ar] = json.loads(f.read())\n",
    "sample_path = list(exports.keys())[0]\n",
    "exports[sample_path].keys() # Here are the keys to one such export."
   ]
  },
  {
   "cell_type": "code",
   "execution_count": 8,
   "metadata": {},
   "outputs": [
    {
     "data": {
      "text/html": [
       "<div>\n",
       "<style scoped>\n",
       "    .dataframe tbody tr th:only-of-type {\n",
       "        vertical-align: middle;\n",
       "    }\n",
       "\n",
       "    .dataframe tbody tr th {\n",
       "        vertical-align: top;\n",
       "    }\n",
       "\n",
       "    .dataframe thead th {\n",
       "        text-align: right;\n",
       "    }\n",
       "</style>\n",
       "<table border=\"1\" class=\"dataframe\">\n",
       "  <thead>\n",
       "    <tr style=\"text-align: right;\">\n",
       "      <th></th>\n",
       "      <th></th>\n",
       "      <th>content</th>\n",
       "      <th>tokens</th>\n",
       "      <th>review</th>\n",
       "    </tr>\n",
       "    <tr>\n",
       "      <th>abs_path</th>\n",
       "      <th>sentence_number</th>\n",
       "      <th></th>\n",
       "      <th></th>\n",
       "      <th></th>\n",
       "    </tr>\n",
       "  </thead>\n",
       "  <tbody>\n",
       "    <tr>\n",
       "      <th rowspan=\"5\" valign=\"top\">D:\\career\\previous_work\\rentgrata\\exports\\prospect_0-ukuV6QxGmni\\REVIEW\\prospect_00001000_00001199.csv.json</th>\n",
       "      <th>0</th>\n",
       "      <td>I m relocating from Minnesota</td>\n",
       "      <td>[I, m, relocating, from, Minnesota]</td>\n",
       "      <td>True</td>\n",
       "    </tr>\n",
       "    <tr>\n",
       "      <th>1</th>\n",
       "      <td>Have a nice day</td>\n",
       "      <td>[Have, a, nice, day]</td>\n",
       "      <td>True</td>\n",
       "    </tr>\n",
       "    <tr>\n",
       "      <th>2</th>\n",
       "      <td>Hey , this is Jim</td>\n",
       "      <td>[Hey, ,, this, is, Jim]</td>\n",
       "      <td>True</td>\n",
       "    </tr>\n",
       "    <tr>\n",
       "      <th>3</th>\n",
       "      <td>I am planning to rent a studio in this area</td>\n",
       "      <td>[I, am, planning, to, rent, a, studio, in, thi...</td>\n",
       "      <td>True</td>\n",
       "    </tr>\n",
       "    <tr>\n",
       "      <th>4</th>\n",
       "      <td>Do you like living here</td>\n",
       "      <td>[Do, you, like, living, here]</td>\n",
       "      <td>True</td>\n",
       "    </tr>\n",
       "  </tbody>\n",
       "</table>\n",
       "</div>"
      ],
      "text/plain": [
       "                                                                                                        content  \\\n",
       "abs_path                                           sentence_number                                                \n",
       "D:\\career\\previous_work\\rentgrata\\exports\\prosp... 0                              I m relocating from Minnesota   \n",
       "                                                   1                                            Have a nice day   \n",
       "                                                   2                                          Hey , this is Jim   \n",
       "                                                   3                I am planning to rent a studio in this area   \n",
       "                                                   4                                    Do you like living here   \n",
       "\n",
       "                                                                                                               tokens  \\\n",
       "abs_path                                           sentence_number                                                      \n",
       "D:\\career\\previous_work\\rentgrata\\exports\\prosp... 0                              [I, m, relocating, from, Minnesota]   \n",
       "                                                   1                                             [Have, a, nice, day]   \n",
       "                                                   2                                          [Hey, ,, this, is, Jim]   \n",
       "                                                   3                [I, am, planning, to, rent, a, studio, in, thi...   \n",
       "                                                   4                                    [Do, you, like, living, here]   \n",
       "\n",
       "                                                                    review  \n",
       "abs_path                                           sentence_number          \n",
       "D:\\career\\previous_work\\rentgrata\\exports\\prosp... 0                  True  \n",
       "                                                   1                  True  \n",
       "                                                   2                  True  \n",
       "                                                   3                  True  \n",
       "                                                   4                  True  "
      ]
     },
     "execution_count": 8,
     "metadata": {},
     "output_type": "execute_result"
    }
   ],
   "source": [
    "# Extracts 'sentences' from exports.\n",
    "filename_rgx = r'((prospect|resident)_[0-9]{8,}_[0-9]{8,})'\n",
    "sentences = []\n",
    "for abs_path, export_dct in exports.items():\n",
    "    df = pd.DataFrame(export_dct['sentences'])\n",
    "    df['abs_path'] = abs_path\n",
    "    df['filename'] = re.search(filename_rgx, abs_path).group()\n",
    "    df['review'] = 'REVIEW' in abs_path\n",
    "    df.rename(columns={'id': 'sentence_number'}, inplace=True) \n",
    "    df.set_index(['abs_path', 'sentence_number'], inplace=True)\n",
    "    sentences.append(df.copy())\n",
    "sentences = pd.concat(sentences)\n",
    "del sentences['labels']\n",
    "sentences[['content', 'tokens', 'review']].head()"
   ]
  },
  {
   "cell_type": "code",
   "execution_count": 9,
   "metadata": {},
   "outputs": [
    {
     "data": {
      "text/plain": [
       "id\n",
       "bzwgd0hD2G1rDlWjU6FhF    Proprietary_Entity_1\n",
       "c2kNhq3OT8k5f3DTkI1qY    Proprietary_Entity_2\n",
       "uk0btwAdF-pKP9PsLOXTx    Proprietary_Entity_3\n",
       "Aq_Evg6XN1CkZM4D8Q3Mp    Proprietary_Entity_4\n",
       "TGfPD1P8veFJHK8d0PskZ    Proprietary_Entity_5\n",
       "Name: labelName, dtype: object"
      ]
     },
     "execution_count": 9,
     "metadata": {},
     "output_type": "execute_result"
    }
   ],
   "source": [
    "# Extracts 'labelSets' from exports to map unfriendly 'labelSetItemId' to friendly 'label'.\n",
    "labelSet = 1 # counting starts at 1\n",
    "mappers = {}\n",
    "for abs_path, export_dict in exports.items():\n",
    "    df = pd.DataFrame(export_dict['labelSets'][labelSet-1]['labelItems'])\n",
    "    df.set_index('id', inplace=True)\n",
    "    mappers[abs_path] = df['labelName'].copy()\n",
    "mappers[sample_path].head() # Here is one such mapper."
   ]
  },
  {
   "cell_type": "code",
   "execution_count": 10,
   "metadata": {},
   "outputs": [
    {
     "data": {
      "text/html": [
       "<div>\n",
       "<style scoped>\n",
       "    .dataframe tbody tr th:only-of-type {\n",
       "        vertical-align: middle;\n",
       "    }\n",
       "\n",
       "    .dataframe tbody tr th {\n",
       "        vertical-align: top;\n",
       "    }\n",
       "\n",
       "    .dataframe thead th {\n",
       "        text-align: right;\n",
       "    }\n",
       "</style>\n",
       "<table border=\"1\" class=\"dataframe\">\n",
       "  <thead>\n",
       "    <tr style=\"text-align: right;\">\n",
       "      <th></th>\n",
       "      <th></th>\n",
       "      <th>label_type</th>\n",
       "      <th>label</th>\n",
       "    </tr>\n",
       "    <tr>\n",
       "      <th>abs_path</th>\n",
       "      <th>sentence_number</th>\n",
       "      <th></th>\n",
       "      <th></th>\n",
       "    </tr>\n",
       "  </thead>\n",
       "  <tbody>\n",
       "    <tr>\n",
       "      <th rowspan=\"5\" valign=\"top\">D:\\career\\previous_work\\rentgrata\\exports\\resident_0-qV84T9bYQbG\\DOCUMENT-labeler_name_es_cloudfactory_com\\resident_00003000_00003199.csv.json</th>\n",
       "      <th>1</th>\n",
       "      <td>Sentiment</td>\n",
       "      <td>Neutral</td>\n",
       "    </tr>\n",
       "    <tr>\n",
       "      <th>1</th>\n",
       "      <td>Entity</td>\n",
       "      <td>Proprietary_Entity_6</td>\n",
       "    </tr>\n",
       "    <tr>\n",
       "      <th>1</th>\n",
       "      <td>Entity</td>\n",
       "      <td>Proprietary_Entity_7</td>\n",
       "    </tr>\n",
       "    <tr>\n",
       "      <th>1</th>\n",
       "      <td>Sentiment</td>\n",
       "      <td>Neutral</td>\n",
       "    </tr>\n",
       "    <tr>\n",
       "      <th>2</th>\n",
       "      <td>Entity</td>\n",
       "      <td>Proprietary_Entity_8</td>\n",
       "    </tr>\n",
       "  </tbody>\n",
       "</table>\n",
       "</div>"
      ],
      "text/plain": [
       "                                                                   label_type  \\\n",
       "abs_path                                           sentence_number              \n",
       "D:\\career\\previous_work\\rentgrata\\exports\\resid... 1                Sentiment   \n",
       "                                                   1                   Entity   \n",
       "                                                   1                   Entity   \n",
       "                                                   1                Sentiment   \n",
       "                                                   2                   Entity   \n",
       "\n",
       "                                                                                   label  \n",
       "abs_path                                           sentence_number                        \n",
       "D:\\career\\previous_work\\rentgrata\\exports\\resid... 1                             Neutral  \n",
       "                                                   1                Proprietary_Entity_6  \n",
       "                                                   1                Proprietary_Entity_7  \n",
       "                                                   1                             Neutral  \n",
       "                                                   2                Proprietary_Entity_8  "
      ]
     },
     "execution_count": 10,
     "metadata": {},
     "output_type": "execute_result"
    }
   ],
   "source": [
    "# Extracts labels from exports.\n",
    "labels = []\n",
    "for abs_path, export_dct in exports.items():\n",
    "    if len(export_dct['labels']) > 0:\n",
    "        df = pd.DataFrame(export_dct['labels'])\n",
    "    else:\n",
    "        continue\n",
    "    df['abs_path'] = abs_path\n",
    "    df['label'] = df['labelSetItemId'].map(mappers[abs_path])\n",
    "    mask = df['startCellLine'] == df['endCellLine']\n",
    "    df = df.loc[mask, :].copy()\n",
    "    df.rename(columns={'startCellLine': 'sentence_number'}, inplace=True)\n",
    "    df.set_index(['abs_path', 'sentence_number'], inplace=True)\n",
    "    labels.append(df.copy())\n",
    "labels = pd.concat(labels)\n",
    "labels['label_type'] = labels['label'].isin(['Negative', 'Neutral', 'Positive'])\n",
    "labels['label_type'].replace({True: 'Sentiment', False: 'Entity'}, inplace=True)\n",
    "labels[['label_type', 'label']].head()"
   ]
  },
  {
   "cell_type": "code",
   "execution_count": 11,
   "metadata": {},
   "outputs": [
    {
     "data": {
      "text/html": [
       "<div>\n",
       "<style scoped>\n",
       "    .dataframe tbody tr th:only-of-type {\n",
       "        vertical-align: middle;\n",
       "    }\n",
       "\n",
       "    .dataframe tbody tr th {\n",
       "        vertical-align: top;\n",
       "    }\n",
       "\n",
       "    .dataframe thead th {\n",
       "        text-align: right;\n",
       "    }\n",
       "</style>\n",
       "<table border=\"1\" class=\"dataframe\">\n",
       "  <thead>\n",
       "    <tr style=\"text-align: right;\">\n",
       "      <th></th>\n",
       "      <th></th>\n",
       "      <th>startTokenIndex</th>\n",
       "      <th>endTokenIndex</th>\n",
       "      <th>label</th>\n",
       "    </tr>\n",
       "    <tr>\n",
       "      <th>abs_path</th>\n",
       "      <th>sentence_number</th>\n",
       "      <th></th>\n",
       "      <th></th>\n",
       "      <th></th>\n",
       "    </tr>\n",
       "  </thead>\n",
       "  <tbody>\n",
       "    <tr>\n",
       "      <th rowspan=\"5\" valign=\"top\">D:\\career\\previous_work\\rentgrata\\exports\\resident_0-qV84T9bYQbG\\DOCUMENT-labeler_name_es_cloudfactory_com\\resident_00003000_00003199.csv.json</th>\n",
       "      <th>1</th>\n",
       "      <td>0</td>\n",
       "      <td>7</td>\n",
       "      <td>Neutral</td>\n",
       "    </tr>\n",
       "    <tr>\n",
       "      <th>1</th>\n",
       "      <td>0</td>\n",
       "      <td>7</td>\n",
       "      <td>Proprietary_Entity_6</td>\n",
       "    </tr>\n",
       "    <tr>\n",
       "      <th>1</th>\n",
       "      <td>9</td>\n",
       "      <td>12</td>\n",
       "      <td>Proprietary_Entity_7</td>\n",
       "    </tr>\n",
       "    <tr>\n",
       "      <th>1</th>\n",
       "      <td>9</td>\n",
       "      <td>12</td>\n",
       "      <td>Neutral</td>\n",
       "    </tr>\n",
       "    <tr>\n",
       "      <th>2</th>\n",
       "      <td>1</td>\n",
       "      <td>8</td>\n",
       "      <td>Proprietary_Entity_8</td>\n",
       "    </tr>\n",
       "  </tbody>\n",
       "</table>\n",
       "</div>"
      ],
      "text/plain": [
       "                                                                    startTokenIndex  \\\n",
       "abs_path                                           sentence_number                    \n",
       "D:\\career\\previous_work\\rentgrata\\exports\\resid... 1                              0   \n",
       "                                                   1                              0   \n",
       "                                                   1                              9   \n",
       "                                                   1                              9   \n",
       "                                                   2                              1   \n",
       "\n",
       "                                                                    endTokenIndex  \\\n",
       "abs_path                                           sentence_number                  \n",
       "D:\\career\\previous_work\\rentgrata\\exports\\resid... 1                            7   \n",
       "                                                   1                            7   \n",
       "                                                   1                           12   \n",
       "                                                   1                           12   \n",
       "                                                   2                            8   \n",
       "\n",
       "                                                                                   label  \n",
       "abs_path                                           sentence_number                        \n",
       "D:\\career\\previous_work\\rentgrata\\exports\\resid... 1                             Neutral  \n",
       "                                                   1                Proprietary_Entity_6  \n",
       "                                                   1                Proprietary_Entity_7  \n",
       "                                                   1                             Neutral  \n",
       "                                                   2                Proprietary_Entity_8  "
      ]
     },
     "execution_count": 11,
     "metadata": {},
     "output_type": "execute_result"
    }
   ],
   "source": [
    "# Joins sentences with labels.\n",
    "df = sentences.join(labels)\n",
    "df.dropna(subset=['startTokenIndex', 'endTokenIndex', 'label'], inplace=True)\n",
    "df['startTokenIndex'] = df['startTokenIndex'].astype(int)\n",
    "df['endTokenIndex'] = df['endTokenIndex'].astype(int)\n",
    "df[['content', 'label_type', 'label', 'review']].head()\n",
    "mask = df['tokens'].apply(len) > 0\n",
    "df = df.loc[mask, :].copy()\n",
    "df['user'] = df['filename'].apply(lambda x: x[:8])\n",
    "df[['startTokenIndex', 'endTokenIndex', 'label']].head()"
   ]
  },
  {
   "cell_type": "code",
   "execution_count": 12,
   "metadata": {},
   "outputs": [
    {
     "data": {
      "text/html": [
       "<div>\n",
       "<style scoped>\n",
       "    .dataframe tbody tr th:only-of-type {\n",
       "        vertical-align: middle;\n",
       "    }\n",
       "\n",
       "    .dataframe tbody tr th {\n",
       "        vertical-align: top;\n",
       "    }\n",
       "\n",
       "    .dataframe thead th {\n",
       "        text-align: right;\n",
       "    }\n",
       "</style>\n",
       "<table border=\"1\" class=\"dataframe\">\n",
       "  <thead>\n",
       "    <tr style=\"text-align: right;\">\n",
       "      <th></th>\n",
       "      <th>filename</th>\n",
       "      <th>sentence_number</th>\n",
       "      <th>startCharIndex</th>\n",
       "      <th>endCharIndex</th>\n",
       "      <th>label_type</th>\n",
       "      <th>review</th>\n",
       "    </tr>\n",
       "  </thead>\n",
       "  <tbody>\n",
       "    <tr>\n",
       "      <th>113156</th>\n",
       "      <td>resident_00001000_00001199</td>\n",
       "      <td>0</td>\n",
       "      <td>3</td>\n",
       "      <td>28</td>\n",
       "      <td>Entity</td>\n",
       "      <td>True</td>\n",
       "    </tr>\n",
       "    <tr>\n",
       "      <th>113157</th>\n",
       "      <td>resident_00001000_00001199</td>\n",
       "      <td>0</td>\n",
       "      <td>3</td>\n",
       "      <td>28</td>\n",
       "      <td>Sentiment</td>\n",
       "      <td>True</td>\n",
       "    </tr>\n",
       "    <tr>\n",
       "      <th>38926</th>\n",
       "      <td>resident_00001000_00001199</td>\n",
       "      <td>0</td>\n",
       "      <td>33</td>\n",
       "      <td>57</td>\n",
       "      <td>Entity</td>\n",
       "      <td>False</td>\n",
       "    </tr>\n",
       "    <tr>\n",
       "      <th>38927</th>\n",
       "      <td>resident_00001000_00001199</td>\n",
       "      <td>0</td>\n",
       "      <td>33</td>\n",
       "      <td>57</td>\n",
       "      <td>Sentiment</td>\n",
       "      <td>False</td>\n",
       "    </tr>\n",
       "    <tr>\n",
       "      <th>113158</th>\n",
       "      <td>resident_00001000_00001199</td>\n",
       "      <td>1</td>\n",
       "      <td>7</td>\n",
       "      <td>32</td>\n",
       "      <td>Entity</td>\n",
       "      <td>True</td>\n",
       "    </tr>\n",
       "  </tbody>\n",
       "</table>\n",
       "</div>"
      ],
      "text/plain": [
       "                          filename  sentence_number  startCharIndex  \\\n",
       "113156  resident_00001000_00001199                0               3   \n",
       "113157  resident_00001000_00001199                0               3   \n",
       "38926   resident_00001000_00001199                0              33   \n",
       "38927   resident_00001000_00001199                0              33   \n",
       "113158  resident_00001000_00001199                1               7   \n",
       "\n",
       "        endCharIndex label_type  review  \n",
       "113156            28     Entity    True  \n",
       "113157            28  Sentiment    True  \n",
       "38926             57     Entity   False  \n",
       "38927             57  Sentiment   False  \n",
       "113158            32     Entity    True  "
      ]
     },
     "execution_count": 12,
     "metadata": {},
     "output_type": "execute_result"
    }
   ],
   "source": [
    "# Extracts phrase from sentence; favors reviewer's label over labeler's label.\n",
    "sortby = ['filename', 'sentence_number', 'startCharIndex', 'endCharIndex', 'label_type', 'review']\n",
    "dedup  = ['filename', 'sentence_number', 'startCharIndex', 'endCharIndex', 'label_type']\n",
    "df['phrase'] = df.apply(lambda x: x['tokens'][x['startTokenIndex']:x['endTokenIndex']+1], axis=1)\n",
    "df['phrase'] = df['phrase'].apply(lambda x: ' '.join(x))\n",
    "df['startCharIndex'] = df.apply(lambda x: x['content'].index(x['phrase']), axis=1)\n",
    "df['startCharIndex'] = df['startCharIndex'].astype(int)\n",
    "df['endCharIndex'] = df['startCharIndex'] + df['phrase'].apply(len)\n",
    "df['endCharIndex'] = df['endCharIndex'].astype(int)\n",
    "df.reset_index(drop=False, inplace=True)\n",
    "df.sort_values(by=sortby, ascending=True, inplace=True)\n",
    "df.drop_duplicates(subset=dedup, keep='last', inplace=True)\n",
    "df[sortby].head()"
   ]
  },
  {
   "cell_type": "code",
   "execution_count": 13,
   "metadata": {},
   "outputs": [
    {
     "name": "stdout",
     "output_type": "stream",
     "text": [
      "{'content': 'My roommate uses that closet but does not use other closets'}\n",
      "{'displayName': 'Proprietary_Entity_9', 'textExtraction': {'textSegment': {'startOffset': '3', 'endOffset': '28'}}}\n"
     ]
    }
   ],
   "source": [
    "# Separates sentiment labels from entity labels.\n",
    "sentiment_mapper = {'Negative': 0, 'Neutral': 1, 'Positive': 2}\n",
    "mask = df['label_type'] == 'Sentiment'\n",
    "snt = df.loc[mask, :].copy()\n",
    "snt.set_index(['filename', 'sentence_number', 'startCharIndex', 'endCharIndex'], inplace=True)\n",
    "snt['label'] = snt['label'].map(sentiment_mapper)\n",
    "mask = df['label_type'] == 'Entity'\n",
    "df = df.loc[mask, :].copy()\n",
    "\n",
    "# Reformats entity labels for Google.\n",
    "df['offsets'] = df.apply(lambda x: dict([('startOffset', str(x['startCharIndex'])),\n",
    "                                          ('endOffset',  str(x['endCharIndex']))]), axis=1)\n",
    "df['textSegment'] = df['offsets'].apply(lambda x: dict([('textSegment', x)]))\n",
    "df['textExtraction'] = df['textSegment'].apply(lambda x: dict([('textExtraction', x)]))\n",
    "df['displayName'] = df['label'].apply(lambda x: dict([('displayName', x)]))\n",
    "df['displayName'] = df.apply(lambda x: {**x['displayName'], **x['textExtraction']}, axis=1)\n",
    "\n",
    "# Groups entity labels by sentence.\n",
    "gb = df.groupby(['filename', 'sentence_number'])\n",
    "df2 = gb.apply(lambda x: x['displayName'].tolist()).to_frame('annotations')\n",
    "df2['user'] = gb['user'].first()\n",
    "df2['annotations'] = df2['annotations'].apply(lambda x: dict([('annotations', x)]))\n",
    "df2['textSnippet'] = gb['content'].first()\n",
    "df2['textSnippet'] = df2.apply(lambda x:\n",
    "                               dict([('textSnippet',\n",
    "                                      dict([('content', x['textSnippet'])]))]),\n",
    "                               axis=1)\n",
    "df2['jsonl'] = df2.apply(lambda x: {**x['textSnippet'], **x['annotations']}, axis=1)\n",
    "sample_jsonl = df2['jsonl'].values.tolist()[0]\n",
    "print(sample_jsonl['textSnippet'])\n",
    "print(sample_jsonl['annotations'][0]) # Here is one such reformatted label and phrase from a sentence."
   ]
  },
  {
   "cell_type": "code",
   "execution_count": 14,
   "metadata": {},
   "outputs": [
    {
     "name": "stdout",
     "output_type": "stream",
     "text": [
      "40,219 entity labels\n",
      "55,555 sentiment labels\n"
     ]
    }
   ],
   "source": [
    "# Shows label counts.\n",
    "print('{:,} entity labels'.format(df2.shape[0]))\n",
    "print('{:,} sentiment labels'.format(snt.shape[0]))"
   ]
  }
 ],
 "metadata": {
  "kernelspec": {
   "display_name": "Python 3",
   "language": "python",
   "name": "python3"
  },
  "language_info": {
   "codemirror_mode": {
    "name": "ipython",
    "version": 3
   },
   "file_extension": ".py",
   "mimetype": "text/x-python",
   "name": "python",
   "nbconvert_exporter": "python",
   "pygments_lexer": "ipython3",
   "version": "3.6.9"
  }
 },
 "nbformat": 4,
 "nbformat_minor": 4
}
